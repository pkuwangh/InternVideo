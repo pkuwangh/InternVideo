{
 "cells": [
  {
   "cell_type": "code",
   "execution_count": 1,
   "metadata": {
    "scrolled": true
   },
   "outputs": [
    {
     "name": "stderr",
     "output_type": "stream",
     "text": [
      "/localhome/local-haowan/ai-vfm/workspace/venv_intern_video2/lib/python3.10/site-packages/tqdm/auto.py:21: TqdmWarning: IProgress not found. Please update jupyter and ipywidgets. See https://ipywidgets.readthedocs.io/en/stable/user_install.html\n",
      "  from .autonotebook import tqdm as notebook_tqdm\n"
     ]
    },
    {
     "name": "stdout",
     "output_type": "stream",
     "text": [
      "[2024-05-07 00:20:23,026] [INFO] [real_accelerator.py:158:get_accelerator] Setting ds_accelerator to cuda (auto detect)\n"
     ]
    }
   ],
   "source": [
    "import numpy as np\n",
    "import os\n",
    "import io\n",
    "import json\n",
    "import cv2\n",
    "\n",
    "import torch\n",
    "\n",
    "from demo.config import (Config,\n",
    "                         eval_dict_leaf)\n",
    "\n",
    "from demo.utils import (retrieve_text,\n",
    "                        _frame_from_video,\n",
    "                        setup_internvideo2)"
   ]
  },
  {
   "cell_type": "code",
   "execution_count": 2,
   "metadata": {},
   "outputs": [
    {
     "name": "stdout",
     "output_type": "stream",
     "text": [
      "40\n",
      "(480, 640, 3)\n"
     ]
    }
   ],
   "source": [
    "video = cv2.VideoCapture('demo/example1.mp4')\n",
    "frames = [x for x in _frame_from_video(video)]\n",
    "print(len(frames))\n",
    "print(frames[0].shape)"
   ]
  },
  {
   "cell_type": "code",
   "execution_count": 3,
   "metadata": {},
   "outputs": [],
   "source": [
    "text_candidates = [\n",
    "    \"A playful dog and its owner wrestle in the snowy yard, chasing each other with joyous abandon.\",\n",
    "    \"A man in a gray coat walks through the snowy landscape, pulling a sleigh loaded with toys.\",\n",
    "    \"A person dressed in a blue jacket shovels the snow-covered pavement outside their house.\",\n",
    "    \"A pet dog excitedly runs through the snowy yard, chasing a toy thrown by its owner.\",\n",
    "    \"A person stands on the snowy floor, pushing a sled loaded with blankets, preparing for a fun-filled ride.\",\n",
    "    \"A man in a gray hat and coat walks through the snowy yard, carefully navigating around the trees.\",\n",
    "    \"A playful dog slides down a snowy hill, wagging its tail with delight.\",\n",
    "    \"A person in a blue jacket walks their pet on a leash, enjoying a peaceful winter walk among the trees.\",\n",
    "    \"A man in a gray sweater plays fetch with his dog in the snowy yard, throwing a toy and watching it run.\",\n",
    "    \"A person bundled up in a blanket walks through the snowy landscape, enjoying the serene winter scenery.\",\n",
    "    \"Lebron James dribbles the basketball down the court, fakes out his defender, and scores a layup.\",\n",
    "    \"Lebron James makes a slamp dunk in a fast break.\",\n",
    "    \"Lebron James of the Lakers makes a slamp dunk in a fast break.\",\n",
    "]"
   ]
  },
  {
   "cell_type": "code",
   "execution_count": 4,
   "metadata": {},
   "outputs": [
    {
     "name": "stdout",
     "output_type": "stream",
     "text": [
      "VisionEncoders: {}\n",
      "TextEncoders: {'bert': {'name': 'bert_base', 'pretrained': 'bert-base-uncased', 'config': 'configs/config_bert.json', 'd_model': 768, 'fusion_layer': 9}, 'bert_large': {'name': 'bert_large', 'pretrained': 'bert-large-uncased', 'config': 'configs/config_bert_large.json', 'd_model': 1024, 'fusion_layer': 19}, 'med_bert': {'name': 'med_bert_base', 'pretrained': 'bert-base-uncased', 'config': 'configs/med_config.json', 'd_model': 768}, 'med_bert_large': {'name': 'med_bert_large', 'pretrained': 'bert-base-uncased', 'config': 'configs/med_large_config.json', 'd_model': 768}}\n",
      "num_workers: 6\n",
      "num_frames: 4\n",
      "num_frames_test: 4\n",
      "batch_size: 8\n",
      "batch_size_test: 4\n",
      "size_t: 224\n",
      "max_txt_l: 40\n",
      "origin_num_frames: 4\n",
      "use_half_precision: False\n",
      "use_bf16: False\n",
      "inputs: {'image_res': 224, 'video_input': {'num_frames': 4, 'sample_type': 'rand', 'num_frames_test': 4, 'sample_type_test': 'middle', 'random_aug': False}, 'max_txt_l': {'image': 40, 'video': 40}, 'batch_size': {'image': 8, 'video': 8}, 'batch_size_test': {'image': 4, 'video': 4}}\n",
      "text_enc: bert_large\n",
      "model: {\n",
      "    \"model_cls\": \"InternVideo2_Stage2\",\n",
      "    \"vision_encoder\": {\n",
      "        \"name\": \"pretrain_internvideo2_1b_patch14_224\",\n",
      "        \"img_size\": 224,\n",
      "        \"num_frames\": 4,\n",
      "        \"tubelet_size\": 1,\n",
      "        \"patch_size\": 14,\n",
      "        \"d_model\": 1408,\n",
      "        \"clip_embed_dim\": 768,\n",
      "        \"clip_teacher_embed_dim\": 3200,\n",
      "        \"clip_teacher_final_dim\": 768,\n",
      "        \"clip_norm_type\": \"l2\",\n",
      "        \"clip_return_layer\": 6,\n",
      "        \"clip_student_return_interval\": 1,\n",
      "        \"pretrained\": \"your_model_path/1B_stage2_pt.pth\",\n",
      "        \"use_checkpoint\": true,\n",
      "        \"checkpoint_num\": 40,\n",
      "        \"use_flash_attn\": false,\n",
      "        \"use_fused_rmsnorm\": false,\n",
      "        \"use_fused_mlp\": false,\n",
      "        \"clip_teacher\": null,\n",
      "        \"clip_input_resolution\": 224,\n",
      "        \"clip_teacher_return_interval\": 1,\n",
      "        \"video_mask_type\": \"random\",\n",
      "        \"video_mask_ratio\": 0.8,\n",
      "        \"image_mask_type\": \"random\",\n",
      "        \"image_mask_ratio\": 0.5,\n",
      "        \"sep_image_video_pos_embed\": true,\n",
      "        \"keep_temporal\": false,\n",
      "        \"only_mask\": true\n",
      "    },\n",
      "    \"text_encoder\": {\n",
      "        \"name\": \"bert_large\",\n",
      "        \"pretrained\": \"bert-large-uncased\",\n",
      "        \"config\": \"configs/config_bert_large.json\",\n",
      "        \"d_model\": 1024,\n",
      "        \"fusion_layer\": 19\n",
      "    },\n",
      "    \"multimodal\": {\n",
      "        \"enable\": true\n",
      "    },\n",
      "    \"embed_dim\": 512,\n",
      "    \"temp\": 0.07,\n",
      "    \"find_unused_parameters\": false\n",
      "}\n",
      "evaluate: True\n",
      "deep_fusion: False\n",
      "evaluation: {'eval_frame_ensemble': 'concat', 'eval_x_only': False, 'k_test': 128, 'eval_offload': True}\n",
      "gradient_checkpointing: True\n",
      "use_flash_sdp: False\n",
      "use_mem_efficient_sdp: False\n",
      "compile_model: False\n",
      "dist_url: env://\n",
      "device: cuda\n",
      "mode: pt\n",
      "output_dir: None\n",
      "resume: False\n",
      "debug: False\n",
      "log_freq: 100\n",
      "seed: 42\n",
      "save_latest: False\n",
      "auto_resume: True\n",
      "jump_evaluate: False\n",
      "pretrained_path: \n",
      "deepspeed: {'enable': True, 'stage': 1}\n"
     ]
    }
   ],
   "source": [
    "config = Config.from_file('demo/internvideo2_stage2_config.py')\n",
    "config = eval_dict_leaf(config)\n",
    "for k, v in config.items():\n",
    "    if k == 'available_corpus':\n",
    "        continue\n",
    "    if k == \"model\":\n",
    "        print(f\"{k}: {json.dumps(v, indent=4)}\")\n",
    "    else:\n",
    "        print(f\"{k}: {v}\")"
   ]
  },
  {
   "cell_type": "code",
   "execution_count": 5,
   "metadata": {},
   "outputs": [],
   "source": [
    "model_pth = 'your_model_path/InternVideo2-stage2_1b-224p-f4.pt'\n",
    "config['pretrained_path'] = model_pth"
   ]
  },
  {
   "cell_type": "code",
   "execution_count": 6,
   "metadata": {},
   "outputs": [
    {
     "name": "stdout",
     "output_type": "stream",
     "text": [
      "vision_encoder: using pretrain_internvideo2_1b_patch14_224\n"
     ]
    },
    {
     "name": "stderr",
     "output_type": "stream",
     "text": [
      "/localhome/local-haowan/ai-vfm/workspace/venv_intern_video2/lib/python3.10/site-packages/huggingface_hub/file_download.py:1132: FutureWarning: `resume_download` is deprecated and will be removed in version 1.0.0. Downloads always resume when possible. If you want to force a new download, use `force_download=True`.\n",
      "  warnings.warn(\n"
     ]
    },
    {
     "name": "stdout",
     "output_type": "stream",
     "text": [
      "text_encoder: using bert_large\n",
      "load_state_dict: _IncompatibleKeys(missing_keys=[], unexpected_keys=['temp', 'itm_head.weight', 'itm_head.bias'])\n"
     ]
    }
   ],
   "source": [
    "intern_model, tokenizer = setup_internvideo2(config)"
   ]
  },
  {
   "cell_type": "code",
   "execution_count": 7,
   "metadata": {},
   "outputs": [
    {
     "name": "stderr",
     "output_type": "stream",
     "text": [
      "/localhome/local-haowan/ai-vfm/workspace/venv_intern_video2/lib/python3.10/site-packages/torch/utils/checkpoint.py:464: UserWarning: torch.utils.checkpoint: the use_reentrant parameter should be passed explicitly. In version 2.4 we will raise an exception if use_reentrant is not passed. use_reentrant=False is recommended, but if you need to preserve the current default behavior, you can pass use_reentrant=True. Refer to docs for more details on the differences between the two variants.\n",
      "  warnings.warn(\n",
      "/localhome/local-haowan/ai-vfm/workspace/venv_intern_video2/lib/python3.10/site-packages/torch/utils/checkpoint.py:91: UserWarning: None of the inputs have requires_grad=True. Gradients will be None\n",
      "  warnings.warn(\n"
     ]
    },
    {
     "name": "stdout",
     "output_type": "stream",
     "text": [
      "text: A man in a gray sweater plays fetch with his dog in the snowy yard, throwing a toy and watching it run. ~ prob: 0.7927\n",
      "text: A playful dog and its owner wrestle in the snowy yard, chasing each other with joyous abandon. ~ prob: 0.1769\n",
      "text: A pet dog excitedly runs through the snowy yard, chasing a toy thrown by its owner. ~ prob: 0.0291\n",
      "text: A man in a gray hat and coat walks through the snowy yard, carefully navigating around the trees. ~ prob: 0.0006\n",
      "text: A person dressed in a blue jacket shovels the snow-covered pavement outside their house. ~ prob: 0.0003\n",
      "text: A person stands on the snowy floor, pushing a sled loaded with blankets, preparing for a fun-filled ride. ~ prob: 0.0002\n",
      "text: A playful dog slides down a snowy hill, wagging its tail with delight. ~ prob: 0.0001\n",
      "text: A person in a blue jacket walks their pet on a leash, enjoying a peaceful winter walk among the trees. ~ prob: 0.0001\n",
      "text: A man in a gray coat walks through the snowy landscape, pulling a sleigh loaded with toys. ~ prob: 0.0000\n",
      "text: A person bundled up in a blanket walks through the snowy landscape, enjoying the serene winter scenery. ~ prob: 0.0000\n"
     ]
    }
   ],
   "source": [
    "texts, probs = retrieve_text(frames, text_candidates, model=intern_model, topk=10, config=config)\n",
    "\n",
    "for t, p in zip(texts, probs):\n",
    "    print(f'text: {t} ~ prob: {p:.4f}')"
   ]
  }
 ],
 "metadata": {
  "kernelspec": {
   "display_name": "Python 3 (ipykernel)",
   "language": "python",
   "name": "python3"
  },
  "language_info": {
   "codemirror_mode": {
    "name": "ipython",
    "version": 3
   },
   "file_extension": ".py",
   "mimetype": "text/x-python",
   "name": "python",
   "nbconvert_exporter": "python",
   "pygments_lexer": "ipython3",
   "version": "3.10.12"
  }
 },
 "nbformat": 4,
 "nbformat_minor": 4
}
