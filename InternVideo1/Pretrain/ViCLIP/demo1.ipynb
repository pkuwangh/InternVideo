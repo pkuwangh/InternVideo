{
 "cells": [
  {
   "cell_type": "code",
   "execution_count": 1,
   "id": "eb22beba",
   "metadata": {},
   "outputs": [
    {
     "name": "stderr",
     "output_type": "stream",
     "text": [
      "/localhome/local-haowan/miniconda3/envs/viclip/lib/python3.8/site-packages/tqdm/auto.py:21: TqdmWarning: IProgress not found. Please update jupyter and ipywidgets. See https://ipywidgets.readthedocs.io/en/stable/user_install.html\n",
      "  from .autonotebook import tqdm as notebook_tqdm\n"
     ]
    }
   ],
   "source": [
    "from demo.simple_tokenizer import SimpleTokenizer as _Tokenizer\n",
    "from demo.viclip import ViCLIP\n",
    "import torch\n",
    "import numpy as np\n",
    "import cv2"
   ]
  },
  {
   "cell_type": "code",
   "execution_count": 2,
   "id": "18ad66cd",
   "metadata": {},
   "outputs": [],
   "source": [
    "clip_candidates = {'viclip':None, 'clip':None}\n",
    "\n",
    "def get_clip(name='viclip'):\n",
    "    global clip_candidates\n",
    "    m = clip_candidates[name]\n",
    "    if m is None:\n",
    "        if name == 'viclip':\n",
    "            tokenizer = _Tokenizer()\n",
    "            print('loading ViCLIP model...')\n",
    "            vclip = ViCLIP(tokenizer)\n",
    "            # m = vclip\n",
    "            m = (vclip, tokenizer)\n",
    "        else:\n",
    "            raise Exception('the target clip model is not found.')\n",
    "    return m\n",
    "\n",
    "def get_text_feat_dict(texts, clip, tokenizer, text_feat_d={}):\n",
    "    for t in texts:\n",
    "        feat = clip.get_text_features(t, tokenizer, text_feat_d)\n",
    "        text_feat_d[t] = feat\n",
    "    return text_feat_d\n",
    "\n",
    "def get_vid_feat(frames, clip):\n",
    "    return clip.get_vid_features(frames)\n",
    "\n",
    "def _frame_from_video(video):\n",
    "    while video.isOpened():\n",
    "        success, frame = video.read()\n",
    "        if success:\n",
    "            yield frame\n",
    "        else:\n",
    "            break"
   ]
  },
  {
   "cell_type": "code",
   "execution_count": 8,
   "id": "a425a5da-ceaf-4b89-9845-c8ba576902d8",
   "metadata": {},
   "outputs": [
    {
     "name": "stdout",
     "output_type": "stream",
     "text": [
      "(720, 1280, 3)\n",
      "275\n"
     ]
    }
   ],
   "source": [
    "video = cv2.VideoCapture('demo/example2.mp4')\n",
    "frames = [x for x in _frame_from_video(video)]\n",
    "print(frames[0].shape)\n",
    "print(len(frames))"
   ]
  },
  {
   "cell_type": "code",
   "execution_count": 9,
   "id": "e7a90379-d9ee-45d9-9073-7ed5132fa6b1",
   "metadata": {},
   "outputs": [],
   "source": [
    "v_mean = np.array([0.485, 0.456, 0.406]).reshape(1,1,3)\n",
    "v_std = np.array([0.229, 0.224, 0.225]).reshape(1,1,3)\n",
    "\n",
    "def normalize(data):\n",
    "    return (data/255.0-v_mean)/v_std\n",
    "\n",
    "def frames2tensor(vid_list, fnum=8, target_size=(224, 224), device=torch.device('cuda')):\n",
    "    assert(len(vid_list) >= fnum)\n",
    "    step = len(vid_list) // fnum\n",
    "    vid_list = vid_list[::step][:fnum]\n",
    "    vid_list = [cv2.resize(x[:,:,::-1], target_size) for x in vid_list]\n",
    "    vid_tube = [np.expand_dims(normalize(x), axis=(0, 1)) for x in vid_list]\n",
    "    vid_tube = np.concatenate(vid_tube, axis=1)\n",
    "    vid_tube = np.transpose(vid_tube, (0, 1, 4, 2, 3))\n",
    "    vid_tube = torch.from_numpy(vid_tube).to(device, non_blocking=True).float()\n",
    "    return vid_tube\n",
    "\n",
    "def retrieve_text(frames, texts, name='viclip', topk=5, device=torch.device('cuda')):\n",
    "    clip, tokenizer = get_clip(name)\n",
    "    clip = clip.to(device)\n",
    "    print(type(frames))\n",
    "    frames_tensor = frames2tensor(frames, device=device)\n",
    "    print(frames_tensor.shape)\n",
    "    vid_feat = get_vid_feat(frames_tensor, clip)\n",
    "    print(vid_feat.shape)\n",
    "    print(vid_feat.sum(dim=-1))\n",
    "\n",
    "    text_feat_d = {}\n",
    "    text_feat_d = get_text_feat_dict(texts, clip, tokenizer, text_feat_d)\n",
    "    text_feats = [text_feat_d[t] for t in texts]\n",
    "    text_feats_tensor = torch.cat(text_feats, 0)\n",
    "    print(text_feats_tensor.shape)\n",
    "\n",
    "    probs, idxs = clip.get_predict_label(vid_feat, text_feats_tensor, top=topk)\n",
    "\n",
    "    ret_texts = [texts[i] for i in idxs.numpy()[0].tolist()]\n",
    "    return ret_texts, probs.numpy()[0]"
   ]
  },
  {
   "cell_type": "code",
   "execution_count": 23,
   "id": "3fb7397a-02ef-41b5-9ffe-f2363b277778",
   "metadata": {},
   "outputs": [
    {
     "name": "stdout",
     "output_type": "stream",
     "text": [
      "loading ViCLIP model...\n",
      "building vision encoder ...\n",
      "building text encoder ...\n",
      "<class 'list'>\n",
      "torch.Size([1, 8, 3, 224, 224])\n",
      "torch.Size([1, 768])\n",
      "tensor([1.5614], device='cuda:0')\n",
      "torch.Size([6, 768])\n",
      "text: Lebron James of the Lakers makes a slamp dunk in a fast break. ~ prob: 0.9544\n",
      "text: Lebron James dribbles the basketball down the court, fakes out his defender, and scores a layup. ~ prob: 0.0232\n",
      "text: Lebron James makes a slamp dunk in a fast break. ~ prob: 0.0224\n",
      "text: A man in a gray sweater plays fetch with his dog in the snowy yard, throwing a toy and watching it run. ~ prob: 0.0000\n",
      "text: A man in a gray coat walks through the snowy landscape, pulling a sleigh loaded with toys. ~ prob: 0.0000\n"
     ]
    }
   ],
   "source": [
    "text_candidates = [\n",
    "    \"A playful dog and its owner wrestle in the snowy yard, chasing each other with joyous abandon.\",\n",
    "    \"A man in a gray coat walks through the snowy landscape, pulling a sleigh loaded with toys.\",\n",
    "    \"A man in a gray sweater plays fetch with his dog in the snowy yard, throwing a toy and watching it run.\",\n",
    "    \"Lebron James dribbles the basketball down the court, fakes out his defender, and scores a layup.\",\n",
    "    \"Lebron James makes a slamp dunk in a fast break.\",\n",
    "    \"Lebron James of the Lakers makes a slamp dunk in a fast break.\",\n",
    "]\n",
    "\n",
    "texts, probs = retrieve_text(frames, text_candidates, name='viclip', topk=5)\n",
    "\n",
    "for t, p in zip(texts, probs):\n",
    "    print(f'text: {t} ~ prob: {p:.4f}')"
   ]
  }
 ],
 "metadata": {
  "kernelspec": {
   "display_name": "Python 3 (ipykernel)",
   "language": "python",
   "name": "python3"
  },
  "language_info": {
   "codemirror_mode": {
    "name": "ipython",
    "version": 3
   },
   "file_extension": ".py",
   "mimetype": "text/x-python",
   "name": "python",
   "nbconvert_exporter": "python",
   "pygments_lexer": "ipython3",
   "version": "3.8.19"
  }
 },
 "nbformat": 4,
 "nbformat_minor": 5
}
